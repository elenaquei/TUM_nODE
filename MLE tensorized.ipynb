{
 "cells": [
  {
   "cell_type": "code",
   "execution_count": 6,
   "metadata": {},
   "outputs": [
    {
     "ename": "RuntimeError",
     "evalue": "The size of tensor a (2) must match the size of tensor b (30) at non-singleton dimension 1",
     "output_type": "error",
     "traceback": [
      "\u001b[0;31m---------------------------------------------------------------------------\u001b[0m",
      "\u001b[0;31mRuntimeError\u001b[0m                              Traceback (most recent call last)",
      "\u001b[0;32m/var/folders/lk/x8186w8j3_s9plr83dmmwnm00000gn/T/ipykernel_36311/4041891821.py\u001b[0m in \u001b[0;36m<module>\u001b[0;34m\u001b[0m\n\u001b[1;32m     51\u001b[0m \u001b[0;34m\u001b[0m\u001b[0m\n\u001b[1;32m     52\u001b[0m \u001b[0meps\u001b[0m \u001b[0;34m=\u001b[0m \u001b[0;36m0.6\u001b[0m\u001b[0;34m\u001b[0m\u001b[0;34m\u001b[0m\u001b[0m\n\u001b[0;32m---> 53\u001b[0;31m \u001b[0moutput\u001b[0m \u001b[0;34m=\u001b[0m \u001b[0mMLE\u001b[0m\u001b[0;34m(\u001b[0m\u001b[0mtrajectories\u001b[0m\u001b[0;34m,\u001b[0m\u001b[0mt\u001b[0m\u001b[0;34m,\u001b[0m\u001b[0meps\u001b[0m\u001b[0;34m)\u001b[0m\u001b[0;34m\u001b[0m\u001b[0;34m\u001b[0m\u001b[0m\n\u001b[0m\u001b[1;32m     54\u001b[0m \u001b[0mprint\u001b[0m\u001b[0;34m(\u001b[0m\u001b[0moutput\u001b[0m\u001b[0;34m)\u001b[0m\u001b[0;34m\u001b[0m\u001b[0;34m\u001b[0m\u001b[0m\n",
      "\u001b[0;32m/var/folders/lk/x8186w8j3_s9plr83dmmwnm00000gn/T/ipykernel_36311/4041891821.py\u001b[0m in \u001b[0;36mMLE\u001b[0;34m(traj, t, eps)\u001b[0m\n\u001b[1;32m     16\u001b[0m \u001b[0;34m\u001b[0m\u001b[0m\n\u001b[1;32m     17\u001b[0m     \u001b[0mle_vals\u001b[0m \u001b[0;34m=\u001b[0m \u001b[0mle\u001b[0m\u001b[0;34m(\u001b[0m\u001b[0mtraj\u001b[0m\u001b[0;34m.\u001b[0m\u001b[0munsqueeze\u001b[0m\u001b[0;34m(\u001b[0m\u001b[0;36m2\u001b[0m\u001b[0;34m)\u001b[0m\u001b[0;34m.\u001b[0m\u001b[0munsqueeze\u001b[0m\u001b[0;34m(\u001b[0m\u001b[0;36m3\u001b[0m\u001b[0;34m)\u001b[0m\u001b[0;34m,\u001b[0m \u001b[0mtraj\u001b[0m\u001b[0;34m.\u001b[0m\u001b[0munsqueeze\u001b[0m\u001b[0;34m(\u001b[0m\u001b[0;36m0\u001b[0m\u001b[0;34m)\u001b[0m\u001b[0;34m.\u001b[0m\u001b[0munsqueeze\u001b[0m\u001b[0;34m(\u001b[0m\u001b[0;36m1\u001b[0m\u001b[0;34m)\u001b[0m\u001b[0;34m,\u001b[0m \u001b[0mt\u001b[0m\u001b[0;34m)\u001b[0m\u001b[0;34m\u001b[0m\u001b[0;34m\u001b[0m\u001b[0m\n\u001b[0;32m---> 18\u001b[0;31m     \u001b[0mle_vals_masked\u001b[0m \u001b[0;34m=\u001b[0m \u001b[0mtorch\u001b[0m\u001b[0;34m.\u001b[0m\u001b[0mwhere\u001b[0m\u001b[0;34m(\u001b[0m\u001b[0mmask\u001b[0m\u001b[0;34m.\u001b[0m\u001b[0munsqueeze\u001b[0m\u001b[0;34m(\u001b[0m\u001b[0;34m-\u001b[0m\u001b[0;36m1\u001b[0m\u001b[0;34m)\u001b[0m\u001b[0;34m,\u001b[0m \u001b[0mle_vals\u001b[0m\u001b[0;34m,\u001b[0m \u001b[0mtorch\u001b[0m\u001b[0;34m.\u001b[0m\u001b[0mtensor\u001b[0m\u001b[0;34m(\u001b[0m\u001b[0mfloat\u001b[0m\u001b[0;34m(\u001b[0m\u001b[0;34m'nan'\u001b[0m\u001b[0;34m)\u001b[0m\u001b[0;34m)\u001b[0m\u001b[0;34m)\u001b[0m\u001b[0;34m\u001b[0m\u001b[0;34m\u001b[0m\u001b[0m\n\u001b[0m\u001b[1;32m     19\u001b[0m     \u001b[0mle_avg\u001b[0m \u001b[0;34m=\u001b[0m \u001b[0mtorch\u001b[0m\u001b[0;34m.\u001b[0m\u001b[0mnanmean\u001b[0m\u001b[0;34m(\u001b[0m\u001b[0mle_vals_masked\u001b[0m\u001b[0;34m,\u001b[0m \u001b[0mdim\u001b[0m\u001b[0;34m=\u001b[0m\u001b[0;34m(\u001b[0m\u001b[0;36m2\u001b[0m\u001b[0;34m,\u001b[0m \u001b[0;36m3\u001b[0m\u001b[0;34m)\u001b[0m\u001b[0;34m)\u001b[0m\u001b[0;34m\u001b[0m\u001b[0;34m\u001b[0m\u001b[0m\n\u001b[1;32m     20\u001b[0m     \u001b[0;32mreturn\u001b[0m \u001b[0mle_avg\u001b[0m\u001b[0;34m\u001b[0m\u001b[0;34m\u001b[0m\u001b[0m\n",
      "\u001b[0;31mRuntimeError\u001b[0m: The size of tensor a (2) must match the size of tensor b (30) at non-singleton dimension 1"
     ]
    }
   ],
   "source": [
    "import torch\n",
    "import numpy as np\n",
    "\n",
    "def le(x, y, t):\n",
    "    d = torch.norm(x - y, dim=2)\n",
    "    d = d / d[:, :, 0:1]  \n",
    "    d = torch.log(d) \n",
    "    d = d / t.unsqueeze(0).unsqueeze(1)\n",
    "    return d\n",
    "\n",
    "def MLE(traj, t, eps=0.1):\n",
    "    x_amount, y_amount, x_dim, t_dim = traj.shape\n",
    "    traj_init = traj[:, :, :, 0:1]  # select initial values\n",
    "    traj_norm = torch.norm(traj_init.unsqueeze(2).unsqueeze(3) - traj_init.unsqueeze(0).unsqueeze(1), dim=2)\n",
    "    mask = (traj_norm < eps) & (traj_norm != 0)  \n",
    "\n",
    "    le_vals = le(traj.unsqueeze(2).unsqueeze(3), traj.unsqueeze(0).unsqueeze(1), t)\n",
    "    le_vals_masked = torch.where(mask.unsqueeze(-1), le_vals, torch.tensor(float('nan')))\n",
    "    le_avg = torch.nanmean(le_vals_masked, dim=(2, 3))\n",
    "    return le_avg\n",
    "\n",
    "\n",
    "def evolution_2d(x, t, l=1.):\n",
    "    norm_x = torch.linalg.norm(x, dim = -1, keepdim=True)  # shape (x_amount,x_amount,1)\n",
    "    indices_below = (norm_x < 1).expand_as(x)  # shape (x_amount,x_amount,dim_x)\n",
    "\n",
    "    t = t[None, None, None, :]  # shape (1,1,1,3)\n",
    "    x_extended = x.unsqueeze(-1).expand(-1, -1, -1, len(t))  # shape (x_amount,x_amount,dim_x,len_t)\n",
    "\n",
    "    result_below = torch.exp(-l * t) * x_extended  # shape (x_amount,x_amount,dim_x,len_t)\n",
    "    result_above = torch.exp(l * t) * x_extended  # shape (x_amount,x_amount,dim_x,len_t)\n",
    "\n",
    "    # Use the boolean mask to select values from result_below or result_above\n",
    "    result = torch.where(indices_below.unsqueeze(-1), result_below, result_above)  # shape (x_amount,x_amount,dim_x,len_t)\n",
    "\n",
    "    return result\n",
    "\n",
    "\n",
    "x_amount = 30\n",
    "x = torch.linspace(-2,2,x_amount)\n",
    "y = torch.linspace(-2,2,x_amount)\n",
    "X, Y = torch.meshgrid(x, y)\n",
    "inputs = torch.stack([X,Y], dim=-1)\n",
    "\n",
    "t = torch.linspace(0,1,2)\n",
    "trajectories = evolution_2d(inputs, t)\n",
    "t_indices = torch.tensor([0,-1])\n",
    "\n",
    "trajectories = trajectories[t_indices] \n",
    "trajectories = trajectories.permute(1,2,3,0)\n",
    "\n",
    "eps = 0.6\n",
    "output = MLE(trajectories,t,eps)\n",
    "print(output)"
   ]
  },
  {
   "cell_type": "code",
   "execution_count": null,
   "metadata": {},
   "outputs": [],
   "source": []
  },
  {
   "cell_type": "code",
   "execution_count": null,
   "metadata": {},
   "outputs": [],
   "source": []
  },
  {
   "cell_type": "code",
   "execution_count": null,
   "metadata": {},
   "outputs": [],
   "source": []
  },
  {
   "cell_type": "code",
   "execution_count": null,
   "metadata": {},
   "outputs": [],
   "source": []
  },
  {
   "cell_type": "code",
   "execution_count": null,
   "metadata": {},
   "outputs": [],
   "source": []
  }
 ],
 "metadata": {
  "kernelspec": {
   "display_name": "neuralODE",
   "language": "python",
   "name": "neuralode"
  },
  "language_info": {
   "codemirror_mode": {
    "name": "ipython",
    "version": 3
   },
   "file_extension": ".py",
   "mimetype": "text/x-python",
   "name": "python",
   "nbconvert_exporter": "python",
   "pygments_lexer": "ipython3",
   "version": "3.8.11"
  },
  "orig_nbformat": 4
 },
 "nbformat": 4,
 "nbformat_minor": 2
}
