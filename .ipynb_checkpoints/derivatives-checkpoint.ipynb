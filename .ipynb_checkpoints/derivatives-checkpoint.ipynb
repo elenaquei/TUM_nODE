{
 "cells": [
  {
   "cell_type": "code",
   "execution_count": 40,
   "metadata": {},
   "outputs": [],
   "source": [
    "from sympy import symbols, diff\n"
   ]
  },
  {
   "cell_type": "code",
   "execution_count": 41,
   "metadata": {},
   "outputs": [],
   "source": [
    "ell, delta, theta, n, x = symbols('ell delta theta n x')"
   ]
  },
  {
   "cell_type": "code",
   "execution_count": 42,
   "metadata": {},
   "outputs": [],
   "source": [
    "hill_neg = ell + delta * 1/(1+(x/theta)**n)\n",
    "hill_pos = ell + delta * 1/(1+(theta/x)**n)"
   ]
  },
  {
   "cell_type": "code",
   "execution_count": 43,
   "metadata": {},
   "outputs": [
    {
     "data": {
      "text/latex": [
       "$\\displaystyle \\frac{\\delta n \\left(\\frac{\\theta}{x}\\right)^{n}}{x \\left(\\left(\\frac{\\theta}{x}\\right)^{n} + 1\\right)^{2}}$"
      ],
      "text/plain": [
       "delta*n*(theta/x)**n/(x*((theta/x)**n + 1)**2)"
      ]
     },
     "execution_count": 43,
     "metadata": {},
     "output_type": "execute_result"
    }
   ],
   "source": [
    "diff(hill_pos, x)"
   ]
  },
  {
   "cell_type": "code",
   "execution_count": 44,
   "metadata": {},
   "outputs": [
    {
     "data": {
      "text/latex": [
       "$\\displaystyle - \\frac{\\delta n \\left(\\frac{x}{\\theta}\\right)^{n}}{x \\left(\\left(\\frac{x}{\\theta}\\right)^{n} + 1\\right)^{2}}$"
      ],
      "text/plain": [
       "-delta*n*(x/theta)**n/(x*((x/theta)**n + 1)**2)"
      ]
     },
     "execution_count": 44,
     "metadata": {},
     "output_type": "execute_result"
    }
   ],
   "source": [
    "diff(hill_neg, x)"
   ]
  },
  {
   "cell_type": "code",
   "execution_count": 66,
   "metadata": {},
   "outputs": [
    {
     "data": {
      "text/latex": [
       "$\\displaystyle \\frac{1}{\\left(\\frac{\\theta}{x}\\right)^{n} + 1}$"
      ],
      "text/plain": [
       "1/((theta/x)**n + 1)"
      ]
     },
     "execution_count": 66,
     "metadata": {},
     "output_type": "execute_result"
    }
   ],
   "source": [
    "diff(hill_pos, delta)"
   ]
  },
  {
   "cell_type": "code",
   "execution_count": 67,
   "metadata": {},
   "outputs": [
    {
     "data": {
      "text/latex": [
       "$\\displaystyle \\frac{1}{\\left(\\frac{x}{\\theta}\\right)^{n} + 1}$"
      ],
      "text/plain": [
       "1/((x/theta)**n + 1)"
      ]
     },
     "execution_count": 67,
     "metadata": {},
     "output_type": "execute_result"
    }
   ],
   "source": [
    "diff(hill_neg, delta)"
   ]
  },
  {
   "cell_type": "code",
   "execution_count": 71,
   "metadata": {},
   "outputs": [
    {
     "data": {
      "text/latex": [
       "$\\displaystyle - \\frac{\\delta n \\left(\\frac{\\theta}{x}\\right)^{n}}{\\theta \\left(\\left(\\frac{\\theta}{x}\\right)^{n} + 1\\right)^{2}}$"
      ],
      "text/plain": [
       "-delta*n*(theta/x)**n/(theta*((theta/x)**n + 1)**2)"
      ]
     },
     "execution_count": 71,
     "metadata": {},
     "output_type": "execute_result"
    }
   ],
   "source": [
    "diff(hill_pos, theta)"
   ]
  },
  {
   "cell_type": "code",
   "execution_count": 70,
   "metadata": {},
   "outputs": [
    {
     "data": {
      "text/latex": [
       "$\\displaystyle \\frac{\\delta n \\left(\\frac{x}{\\theta}\\right)^{n}}{\\theta \\left(\\left(\\frac{x}{\\theta}\\right)^{n} + 1\\right)^{2}}$"
      ],
      "text/plain": [
       "delta*n*(x/theta)**n/(theta*((x/theta)**n + 1)**2)"
      ]
     },
     "execution_count": 70,
     "metadata": {},
     "output_type": "execute_result"
    }
   ],
   "source": [
    "diff(hill_neg, theta)"
   ]
  },
  {
   "cell_type": "code",
   "execution_count": 68,
   "metadata": {},
   "outputs": [
    {
     "data": {
      "text/latex": [
       "$\\displaystyle - \\frac{\\delta \\left(\\frac{\\theta}{x}\\right)^{n} \\log{\\left(\\frac{\\theta}{x} \\right)}}{\\left(\\left(\\frac{\\theta}{x}\\right)^{n} + 1\\right)^{2}}$"
      ],
      "text/plain": [
       "-delta*(theta/x)**n*log(theta/x)/((theta/x)**n + 1)**2"
      ]
     },
     "execution_count": 68,
     "metadata": {},
     "output_type": "execute_result"
    }
   ],
   "source": [
    "diff(hill_pos, n)"
   ]
  },
  {
   "cell_type": "code",
   "execution_count": 69,
   "metadata": {},
   "outputs": [
    {
     "data": {
      "text/latex": [
       "$\\displaystyle - \\frac{\\delta \\left(\\frac{x}{\\theta}\\right)^{n} \\log{\\left(\\frac{x}{\\theta} \\right)}}{\\left(\\left(\\frac{x}{\\theta}\\right)^{n} + 1\\right)^{2}}$"
      ],
      "text/plain": [
       "-delta*(x/theta)**n*log(x/theta)/((x/theta)**n + 1)**2"
      ]
     },
     "execution_count": 69,
     "metadata": {},
     "output_type": "execute_result"
    }
   ],
   "source": [
    "diff(hill_neg, n)"
   ]
  },
  {
   "cell_type": "code",
   "execution_count": 45,
   "metadata": {},
   "outputs": [
    {
     "data": {
      "text/latex": [
       "$\\displaystyle - \\frac{n \\left(\\frac{\\theta}{x}\\right)^{n}}{\\theta \\left(\\left(\\frac{\\theta}{x}\\right)^{n} + 1\\right)^{2}}$"
      ],
      "text/plain": [
       "-n*(theta/x)**n/(theta*((theta/x)**n + 1)**2)"
      ]
     },
     "execution_count": 45,
     "metadata": {},
     "output_type": "execute_result"
    }
   ],
   "source": [
    "diff(diff(hill_pos, delta), theta)"
   ]
  },
  {
   "cell_type": "code",
   "execution_count": 46,
   "metadata": {},
   "outputs": [
    {
     "data": {
      "text/latex": [
       "$\\displaystyle \\frac{n \\left(\\frac{x}{\\theta}\\right)^{n}}{\\theta \\left(\\left(\\frac{x}{\\theta}\\right)^{n} + 1\\right)^{2}}$"
      ],
      "text/plain": [
       "n*(x/theta)**n/(theta*((x/theta)**n + 1)**2)"
      ]
     },
     "execution_count": 46,
     "metadata": {},
     "output_type": "execute_result"
    }
   ],
   "source": [
    "diff(diff(hill_neg, delta), theta)"
   ]
  },
  {
   "cell_type": "code",
   "execution_count": 47,
   "metadata": {},
   "outputs": [
    {
     "data": {
      "text/latex": [
       "$\\displaystyle - \\frac{\\left(\\frac{\\theta}{x}\\right)^{n} \\log{\\left(\\frac{\\theta}{x} \\right)}}{\\left(\\left(\\frac{\\theta}{x}\\right)^{n} + 1\\right)^{2}}$"
      ],
      "text/plain": [
       "-(theta/x)**n*log(theta/x)/((theta/x)**n + 1)**2"
      ]
     },
     "execution_count": 47,
     "metadata": {},
     "output_type": "execute_result"
    }
   ],
   "source": [
    "diff(diff(hill_pos, delta), n)"
   ]
  },
  {
   "cell_type": "code",
   "execution_count": 48,
   "metadata": {},
   "outputs": [
    {
     "data": {
      "text/latex": [
       "$\\displaystyle - \\frac{\\left(\\frac{x}{\\theta}\\right)^{n} \\log{\\left(\\frac{x}{\\theta} \\right)}}{\\left(\\left(\\frac{x}{\\theta}\\right)^{n} + 1\\right)^{2}}$"
      ],
      "text/plain": [
       "-(x/theta)**n*log(x/theta)/((x/theta)**n + 1)**2"
      ]
     },
     "execution_count": 48,
     "metadata": {},
     "output_type": "execute_result"
    }
   ],
   "source": [
    "diff(diff(hill_neg, delta), n)"
   ]
  },
  {
   "cell_type": "code",
   "execution_count": 49,
   "metadata": {},
   "outputs": [
    {
     "data": {
      "text/latex": [
       "$\\displaystyle \\frac{2 \\delta n \\left(\\frac{\\theta}{x}\\right)^{2 n} \\log{\\left(\\frac{\\theta}{x} \\right)}}{\\theta \\left(\\left(\\frac{\\theta}{x}\\right)^{n} + 1\\right)^{3}} - \\frac{\\delta n \\left(\\frac{\\theta}{x}\\right)^{n} \\log{\\left(\\frac{\\theta}{x} \\right)}}{\\theta \\left(\\left(\\frac{\\theta}{x}\\right)^{n} + 1\\right)^{2}} - \\frac{\\delta \\left(\\frac{\\theta}{x}\\right)^{n}}{\\theta \\left(\\left(\\frac{\\theta}{x}\\right)^{n} + 1\\right)^{2}}$"
      ],
      "text/plain": [
       "2*delta*n*(theta/x)**(2*n)*log(theta/x)/(theta*((theta/x)**n + 1)**3) - delta*n*(theta/x)**n*log(theta/x)/(theta*((theta/x)**n + 1)**2) - delta*(theta/x)**n/(theta*((theta/x)**n + 1)**2)"
      ]
     },
     "execution_count": 49,
     "metadata": {},
     "output_type": "execute_result"
    }
   ],
   "source": [
    "diff(diff(hill_pos, theta), n)"
   ]
  },
  {
   "cell_type": "code",
   "execution_count": 50,
   "metadata": {},
   "outputs": [
    {
     "data": {
      "text/latex": [
       "$\\displaystyle - \\frac{2 \\delta n \\left(\\frac{x}{\\theta}\\right)^{2 n} \\log{\\left(\\frac{x}{\\theta} \\right)}}{\\theta \\left(\\left(\\frac{x}{\\theta}\\right)^{n} + 1\\right)^{3}} + \\frac{\\delta n \\left(\\frac{x}{\\theta}\\right)^{n} \\log{\\left(\\frac{x}{\\theta} \\right)}}{\\theta \\left(\\left(\\frac{x}{\\theta}\\right)^{n} + 1\\right)^{2}} + \\frac{\\delta \\left(\\frac{x}{\\theta}\\right)^{n}}{\\theta \\left(\\left(\\frac{x}{\\theta}\\right)^{n} + 1\\right)^{2}}$"
      ],
      "text/plain": [
       "-2*delta*n*(x/theta)**(2*n)*log(x/theta)/(theta*((x/theta)**n + 1)**3) + delta*n*(x/theta)**n*log(x/theta)/(theta*((x/theta)**n + 1)**2) + delta*(x/theta)**n/(theta*((x/theta)**n + 1)**2)"
      ]
     },
     "execution_count": 50,
     "metadata": {},
     "output_type": "execute_result"
    }
   ],
   "source": [
    "diff(diff(hill_neg, theta), n)"
   ]
  },
  {
   "cell_type": "code",
   "execution_count": 51,
   "metadata": {},
   "outputs": [
    {
     "data": {
      "text/latex": [
       "$\\displaystyle \\frac{2 \\delta \\left(\\frac{\\theta}{x}\\right)^{2 n} \\log{\\left(\\frac{\\theta}{x} \\right)}^{2}}{\\left(\\left(\\frac{\\theta}{x}\\right)^{n} + 1\\right)^{3}} - \\frac{\\delta \\left(\\frac{\\theta}{x}\\right)^{n} \\log{\\left(\\frac{\\theta}{x} \\right)}^{2}}{\\left(\\left(\\frac{\\theta}{x}\\right)^{n} + 1\\right)^{2}}$"
      ],
      "text/plain": [
       "2*delta*(theta/x)**(2*n)*log(theta/x)**2/((theta/x)**n + 1)**3 - delta*(theta/x)**n*log(theta/x)**2/((theta/x)**n + 1)**2"
      ]
     },
     "execution_count": 51,
     "metadata": {},
     "output_type": "execute_result"
    }
   ],
   "source": [
    "diff(diff(hill_pos, n), n)"
   ]
  },
  {
   "cell_type": "code",
   "execution_count": 52,
   "metadata": {},
   "outputs": [
    {
     "data": {
      "text/latex": [
       "$\\displaystyle \\frac{2 \\delta \\left(\\frac{x}{\\theta}\\right)^{2 n} \\log{\\left(\\frac{x}{\\theta} \\right)}^{2}}{\\left(\\left(\\frac{x}{\\theta}\\right)^{n} + 1\\right)^{3}} - \\frac{\\delta \\left(\\frac{x}{\\theta}\\right)^{n} \\log{\\left(\\frac{x}{\\theta} \\right)}^{2}}{\\left(\\left(\\frac{x}{\\theta}\\right)^{n} + 1\\right)^{2}}$"
      ],
      "text/plain": [
       "2*delta*(x/theta)**(2*n)*log(x/theta)**2/((x/theta)**n + 1)**3 - delta*(x/theta)**n*log(x/theta)**2/((x/theta)**n + 1)**2"
      ]
     },
     "execution_count": 52,
     "metadata": {},
     "output_type": "execute_result"
    }
   ],
   "source": [
    "diff(diff(hill_neg, n), n)"
   ]
  },
  {
   "cell_type": "code",
   "execution_count": 53,
   "metadata": {},
   "outputs": [
    {
     "data": {
      "text/latex": [
       "$\\displaystyle - \\frac{n \\left(\\frac{x}{\\theta}\\right)^{n}}{x \\left(\\left(\\frac{x}{\\theta}\\right)^{n} + 1\\right)^{2}}$"
      ],
      "text/plain": [
       "-n*(x/theta)**n/(x*((x/theta)**n + 1)**2)"
      ]
     },
     "execution_count": 53,
     "metadata": {},
     "output_type": "execute_result"
    }
   ],
   "source": [
    "diff(diff(hill_neg, x), delta)"
   ]
  },
  {
   "cell_type": "code",
   "execution_count": 54,
   "metadata": {},
   "outputs": [
    {
     "data": {
      "text/latex": [
       "$\\displaystyle \\frac{n \\left(\\frac{\\theta}{x}\\right)^{n}}{x \\left(\\left(\\frac{\\theta}{x}\\right)^{n} + 1\\right)^{2}}$"
      ],
      "text/plain": [
       "n*(theta/x)**n/(x*((theta/x)**n + 1)**2)"
      ]
     },
     "execution_count": 54,
     "metadata": {},
     "output_type": "execute_result"
    }
   ],
   "source": [
    "diff(diff(hill_pos, x), delta)"
   ]
  },
  {
   "cell_type": "code",
   "execution_count": 55,
   "metadata": {},
   "outputs": [
    {
     "data": {
      "text/latex": [
       "$\\displaystyle - \\frac{2 \\delta n^{2} \\left(\\frac{\\theta}{x}\\right)^{2 n}}{\\theta x \\left(\\left(\\frac{\\theta}{x}\\right)^{n} + 1\\right)^{3}} + \\frac{\\delta n^{2} \\left(\\frac{\\theta}{x}\\right)^{n}}{\\theta x \\left(\\left(\\frac{\\theta}{x}\\right)^{n} + 1\\right)^{2}}$"
      ],
      "text/plain": [
       "-2*delta*n**2*(theta/x)**(2*n)/(theta*x*((theta/x)**n + 1)**3) + delta*n**2*(theta/x)**n/(theta*x*((theta/x)**n + 1)**2)"
      ]
     },
     "execution_count": 55,
     "metadata": {},
     "output_type": "execute_result"
    }
   ],
   "source": [
    "diff(diff(hill_pos, x), theta)"
   ]
  },
  {
   "cell_type": "code",
   "execution_count": 56,
   "metadata": {},
   "outputs": [
    {
     "data": {
      "text/latex": [
       "$\\displaystyle - \\frac{2 \\delta n^{2} \\left(\\frac{x}{\\theta}\\right)^{2 n}}{\\theta x \\left(\\left(\\frac{x}{\\theta}\\right)^{n} + 1\\right)^{3}} + \\frac{\\delta n^{2} \\left(\\frac{x}{\\theta}\\right)^{n}}{\\theta x \\left(\\left(\\frac{x}{\\theta}\\right)^{n} + 1\\right)^{2}}$"
      ],
      "text/plain": [
       "-2*delta*n**2*(x/theta)**(2*n)/(theta*x*((x/theta)**n + 1)**3) + delta*n**2*(x/theta)**n/(theta*x*((x/theta)**n + 1)**2)"
      ]
     },
     "execution_count": 56,
     "metadata": {},
     "output_type": "execute_result"
    }
   ],
   "source": [
    "diff(diff(hill_neg, x), theta)"
   ]
  },
  {
   "cell_type": "code",
   "execution_count": 57,
   "metadata": {},
   "outputs": [
    {
     "data": {
      "text/latex": [
       "$\\displaystyle - \\frac{2 \\delta n \\left(\\frac{\\theta}{x}\\right)^{2 n} \\log{\\left(\\frac{\\theta}{x} \\right)}}{x \\left(\\left(\\frac{\\theta}{x}\\right)^{n} + 1\\right)^{3}} + \\frac{\\delta n \\left(\\frac{\\theta}{x}\\right)^{n} \\log{\\left(\\frac{\\theta}{x} \\right)}}{x \\left(\\left(\\frac{\\theta}{x}\\right)^{n} + 1\\right)^{2}} + \\frac{\\delta \\left(\\frac{\\theta}{x}\\right)^{n}}{x \\left(\\left(\\frac{\\theta}{x}\\right)^{n} + 1\\right)^{2}}$"
      ],
      "text/plain": [
       "-2*delta*n*(theta/x)**(2*n)*log(theta/x)/(x*((theta/x)**n + 1)**3) + delta*n*(theta/x)**n*log(theta/x)/(x*((theta/x)**n + 1)**2) + delta*(theta/x)**n/(x*((theta/x)**n + 1)**2)"
      ]
     },
     "execution_count": 57,
     "metadata": {},
     "output_type": "execute_result"
    }
   ],
   "source": [
    "diff(diff(hill_pos, x), n)"
   ]
  },
  {
   "cell_type": "code",
   "execution_count": 58,
   "metadata": {},
   "outputs": [
    {
     "data": {
      "text/latex": [
       "$\\displaystyle \\frac{2 \\delta n \\left(\\frac{x}{\\theta}\\right)^{2 n} \\log{\\left(\\frac{x}{\\theta} \\right)}}{x \\left(\\left(\\frac{x}{\\theta}\\right)^{n} + 1\\right)^{3}} - \\frac{\\delta n \\left(\\frac{x}{\\theta}\\right)^{n} \\log{\\left(\\frac{x}{\\theta} \\right)}}{x \\left(\\left(\\frac{x}{\\theta}\\right)^{n} + 1\\right)^{2}} - \\frac{\\delta \\left(\\frac{x}{\\theta}\\right)^{n}}{x \\left(\\left(\\frac{x}{\\theta}\\right)^{n} + 1\\right)^{2}}$"
      ],
      "text/plain": [
       "2*delta*n*(x/theta)**(2*n)*log(x/theta)/(x*((x/theta)**n + 1)**3) - delta*n*(x/theta)**n*log(x/theta)/(x*((x/theta)**n + 1)**2) - delta*(x/theta)**n/(x*((x/theta)**n + 1)**2)"
      ]
     },
     "execution_count": 58,
     "metadata": {},
     "output_type": "execute_result"
    }
   ],
   "source": [
    "diff(diff(hill_neg, x), n)"
   ]
  },
  {
   "cell_type": "code",
   "execution_count": 59,
   "metadata": {},
   "outputs": [
    {
     "data": {
      "text/latex": [
       "$\\displaystyle \\frac{2 n^{2} \\left(\\frac{\\theta}{x}\\right)^{2 n}}{x^{2} \\left(\\left(\\frac{\\theta}{x}\\right)^{n} + 1\\right)^{3}} - \\frac{n^{2} \\left(\\frac{\\theta}{x}\\right)^{n}}{x^{2} \\left(\\left(\\frac{\\theta}{x}\\right)^{n} + 1\\right)^{2}} - \\frac{n \\left(\\frac{\\theta}{x}\\right)^{n}}{x^{2} \\left(\\left(\\frac{\\theta}{x}\\right)^{n} + 1\\right)^{2}}$"
      ],
      "text/plain": [
       "2*n**2*(theta/x)**(2*n)/(x**2*((theta/x)**n + 1)**3) - n**2*(theta/x)**n/(x**2*((theta/x)**n + 1)**2) - n*(theta/x)**n/(x**2*((theta/x)**n + 1)**2)"
      ]
     },
     "execution_count": 59,
     "metadata": {},
     "output_type": "execute_result"
    }
   ],
   "source": [
    "diff(diff(diff(hill_pos, x), x), delta)"
   ]
  },
  {
   "cell_type": "code",
   "execution_count": 60,
   "metadata": {},
   "outputs": [
    {
     "data": {
      "text/latex": [
       "$\\displaystyle \\frac{2 n^{2} \\left(\\frac{x}{\\theta}\\right)^{2 n}}{x^{2} \\left(\\left(\\frac{x}{\\theta}\\right)^{n} + 1\\right)^{3}} - \\frac{n^{2} \\left(\\frac{x}{\\theta}\\right)^{n}}{x^{2} \\left(\\left(\\frac{x}{\\theta}\\right)^{n} + 1\\right)^{2}} + \\frac{n \\left(\\frac{x}{\\theta}\\right)^{n}}{x^{2} \\left(\\left(\\frac{x}{\\theta}\\right)^{n} + 1\\right)^{2}}$"
      ],
      "text/plain": [
       "2*n**2*(x/theta)**(2*n)/(x**2*((x/theta)**n + 1)**3) - n**2*(x/theta)**n/(x**2*((x/theta)**n + 1)**2) + n*(x/theta)**n/(x**2*((x/theta)**n + 1)**2)"
      ]
     },
     "execution_count": 60,
     "metadata": {},
     "output_type": "execute_result"
    }
   ],
   "source": [
    "diff(diff(diff(hill_neg, x), x), delta)"
   ]
  },
  {
   "cell_type": "code",
   "execution_count": 61,
   "metadata": {},
   "outputs": [
    {
     "data": {
      "text/latex": [
       "$\\displaystyle - \\frac{6 \\delta n^{3} \\left(\\frac{\\theta}{x}\\right)^{3 n}}{\\theta x^{2} \\left(\\left(\\frac{\\theta}{x}\\right)^{n} + 1\\right)^{4}} + \\frac{6 \\delta n^{3} \\left(\\frac{\\theta}{x}\\right)^{2 n}}{\\theta x^{2} \\left(\\left(\\frac{\\theta}{x}\\right)^{n} + 1\\right)^{3}} - \\frac{\\delta n^{3} \\left(\\frac{\\theta}{x}\\right)^{n}}{\\theta x^{2} \\left(\\left(\\frac{\\theta}{x}\\right)^{n} + 1\\right)^{2}} + \\frac{2 \\delta n^{2} \\left(\\frac{\\theta}{x}\\right)^{2 n}}{\\theta x^{2} \\left(\\left(\\frac{\\theta}{x}\\right)^{n} + 1\\right)^{3}} - \\frac{\\delta n^{2} \\left(\\frac{\\theta}{x}\\right)^{n}}{\\theta x^{2} \\left(\\left(\\frac{\\theta}{x}\\right)^{n} + 1\\right)^{2}}$"
      ],
      "text/plain": [
       "-6*delta*n**3*(theta/x)**(3*n)/(theta*x**2*((theta/x)**n + 1)**4) + 6*delta*n**3*(theta/x)**(2*n)/(theta*x**2*((theta/x)**n + 1)**3) - delta*n**3*(theta/x)**n/(theta*x**2*((theta/x)**n + 1)**2) + 2*delta*n**2*(theta/x)**(2*n)/(theta*x**2*((theta/x)**n + 1)**3) - delta*n**2*(theta/x)**n/(theta*x**2*((theta/x)**n + 1)**2)"
      ]
     },
     "execution_count": 61,
     "metadata": {},
     "output_type": "execute_result"
    }
   ],
   "source": [
    "diff(diff(diff(hill_pos, x), x), theta)"
   ]
  },
  {
   "cell_type": "code",
   "execution_count": 62,
   "metadata": {},
   "outputs": [
    {
     "data": {
      "text/latex": [
       "$\\displaystyle \\frac{6 \\delta n^{3} \\left(\\frac{x}{\\theta}\\right)^{3 n}}{\\theta x^{2} \\left(\\left(\\frac{x}{\\theta}\\right)^{n} + 1\\right)^{4}} - \\frac{6 \\delta n^{3} \\left(\\frac{x}{\\theta}\\right)^{2 n}}{\\theta x^{2} \\left(\\left(\\frac{x}{\\theta}\\right)^{n} + 1\\right)^{3}} + \\frac{\\delta n^{3} \\left(\\frac{x}{\\theta}\\right)^{n}}{\\theta x^{2} \\left(\\left(\\frac{x}{\\theta}\\right)^{n} + 1\\right)^{2}} + \\frac{2 \\delta n^{2} \\left(\\frac{x}{\\theta}\\right)^{2 n}}{\\theta x^{2} \\left(\\left(\\frac{x}{\\theta}\\right)^{n} + 1\\right)^{3}} - \\frac{\\delta n^{2} \\left(\\frac{x}{\\theta}\\right)^{n}}{\\theta x^{2} \\left(\\left(\\frac{x}{\\theta}\\right)^{n} + 1\\right)^{2}}$"
      ],
      "text/plain": [
       "6*delta*n**3*(x/theta)**(3*n)/(theta*x**2*((x/theta)**n + 1)**4) - 6*delta*n**3*(x/theta)**(2*n)/(theta*x**2*((x/theta)**n + 1)**3) + delta*n**3*(x/theta)**n/(theta*x**2*((x/theta)**n + 1)**2) + 2*delta*n**2*(x/theta)**(2*n)/(theta*x**2*((x/theta)**n + 1)**3) - delta*n**2*(x/theta)**n/(theta*x**2*((x/theta)**n + 1)**2)"
      ]
     },
     "execution_count": 62,
     "metadata": {},
     "output_type": "execute_result"
    }
   ],
   "source": [
    "diff(diff(diff(hill_neg, x), x), theta)"
   ]
  },
  {
   "cell_type": "code",
   "execution_count": 63,
   "metadata": {},
   "outputs": [
    {
     "data": {
      "text/latex": [
       "$\\displaystyle - \\frac{6 \\delta n^{2} \\left(\\frac{\\theta}{x}\\right)^{3 n} \\log{\\left(\\frac{\\theta}{x} \\right)}}{x^{2} \\left(\\left(\\frac{\\theta}{x}\\right)^{n} + 1\\right)^{4}} + \\frac{6 \\delta n^{2} \\left(\\frac{\\theta}{x}\\right)^{2 n} \\log{\\left(\\frac{\\theta}{x} \\right)}}{x^{2} \\left(\\left(\\frac{\\theta}{x}\\right)^{n} + 1\\right)^{3}} - \\frac{\\delta n^{2} \\left(\\frac{\\theta}{x}\\right)^{n} \\log{\\left(\\frac{\\theta}{x} \\right)}}{x^{2} \\left(\\left(\\frac{\\theta}{x}\\right)^{n} + 1\\right)^{2}} + \\frac{2 \\delta n \\left(\\frac{\\theta}{x}\\right)^{2 n} \\log{\\left(\\frac{\\theta}{x} \\right)}}{x^{2} \\left(\\left(\\frac{\\theta}{x}\\right)^{n} + 1\\right)^{3}} + \\frac{4 \\delta n \\left(\\frac{\\theta}{x}\\right)^{2 n}}{x^{2} \\left(\\left(\\frac{\\theta}{x}\\right)^{n} + 1\\right)^{3}} - \\frac{\\delta n \\left(\\frac{\\theta}{x}\\right)^{n} \\log{\\left(\\frac{\\theta}{x} \\right)}}{x^{2} \\left(\\left(\\frac{\\theta}{x}\\right)^{n} + 1\\right)^{2}} - \\frac{2 \\delta n \\left(\\frac{\\theta}{x}\\right)^{n}}{x^{2} \\left(\\left(\\frac{\\theta}{x}\\right)^{n} + 1\\right)^{2}} - \\frac{\\delta \\left(\\frac{\\theta}{x}\\right)^{n}}{x^{2} \\left(\\left(\\frac{\\theta}{x}\\right)^{n} + 1\\right)^{2}}$"
      ],
      "text/plain": [
       "-6*delta*n**2*(theta/x)**(3*n)*log(theta/x)/(x**2*((theta/x)**n + 1)**4) + 6*delta*n**2*(theta/x)**(2*n)*log(theta/x)/(x**2*((theta/x)**n + 1)**3) - delta*n**2*(theta/x)**n*log(theta/x)/(x**2*((theta/x)**n + 1)**2) + 2*delta*n*(theta/x)**(2*n)*log(theta/x)/(x**2*((theta/x)**n + 1)**3) + 4*delta*n*(theta/x)**(2*n)/(x**2*((theta/x)**n + 1)**3) - delta*n*(theta/x)**n*log(theta/x)/(x**2*((theta/x)**n + 1)**2) - 2*delta*n*(theta/x)**n/(x**2*((theta/x)**n + 1)**2) - delta*(theta/x)**n/(x**2*((theta/x)**n + 1)**2)"
      ]
     },
     "execution_count": 63,
     "metadata": {},
     "output_type": "execute_result"
    }
   ],
   "source": [
    "diff(diff(diff(hill_pos, x), x), n)"
   ]
  },
  {
   "cell_type": "code",
   "execution_count": 64,
   "metadata": {},
   "outputs": [
    {
     "data": {
      "text/latex": [
       "$\\displaystyle - \\frac{6 \\delta n^{2} \\left(\\frac{x}{\\theta}\\right)^{3 n} \\log{\\left(\\frac{x}{\\theta} \\right)}}{x^{2} \\left(\\left(\\frac{x}{\\theta}\\right)^{n} + 1\\right)^{4}} + \\frac{6 \\delta n^{2} \\left(\\frac{x}{\\theta}\\right)^{2 n} \\log{\\left(\\frac{x}{\\theta} \\right)}}{x^{2} \\left(\\left(\\frac{x}{\\theta}\\right)^{n} + 1\\right)^{3}} - \\frac{\\delta n^{2} \\left(\\frac{x}{\\theta}\\right)^{n} \\log{\\left(\\frac{x}{\\theta} \\right)}}{x^{2} \\left(\\left(\\frac{x}{\\theta}\\right)^{n} + 1\\right)^{2}} - \\frac{2 \\delta n \\left(\\frac{x}{\\theta}\\right)^{2 n} \\log{\\left(\\frac{x}{\\theta} \\right)}}{x^{2} \\left(\\left(\\frac{x}{\\theta}\\right)^{n} + 1\\right)^{3}} + \\frac{4 \\delta n \\left(\\frac{x}{\\theta}\\right)^{2 n}}{x^{2} \\left(\\left(\\frac{x}{\\theta}\\right)^{n} + 1\\right)^{3}} + \\frac{\\delta n \\left(\\frac{x}{\\theta}\\right)^{n} \\log{\\left(\\frac{x}{\\theta} \\right)}}{x^{2} \\left(\\left(\\frac{x}{\\theta}\\right)^{n} + 1\\right)^{2}} - \\frac{2 \\delta n \\left(\\frac{x}{\\theta}\\right)^{n}}{x^{2} \\left(\\left(\\frac{x}{\\theta}\\right)^{n} + 1\\right)^{2}} + \\frac{\\delta \\left(\\frac{x}{\\theta}\\right)^{n}}{x^{2} \\left(\\left(\\frac{x}{\\theta}\\right)^{n} + 1\\right)^{2}}$"
      ],
      "text/plain": [
       "-6*delta*n**2*(x/theta)**(3*n)*log(x/theta)/(x**2*((x/theta)**n + 1)**4) + 6*delta*n**2*(x/theta)**(2*n)*log(x/theta)/(x**2*((x/theta)**n + 1)**3) - delta*n**2*(x/theta)**n*log(x/theta)/(x**2*((x/theta)**n + 1)**2) - 2*delta*n*(x/theta)**(2*n)*log(x/theta)/(x**2*((x/theta)**n + 1)**3) + 4*delta*n*(x/theta)**(2*n)/(x**2*((x/theta)**n + 1)**3) + delta*n*(x/theta)**n*log(x/theta)/(x**2*((x/theta)**n + 1)**2) - 2*delta*n*(x/theta)**n/(x**2*((x/theta)**n + 1)**2) + delta*(x/theta)**n/(x**2*((x/theta)**n + 1)**2)"
      ]
     },
     "execution_count": 64,
     "metadata": {},
     "output_type": "execute_result"
    }
   ],
   "source": [
    "diff(diff(diff(hill_neg, x), x), n)"
   ]
  },
  {
   "cell_type": "code",
   "execution_count": 65,
   "metadata": {},
   "outputs": [
    {
     "ename": "SyntaxError",
     "evalue": "invalid syntax (3495918591.py, line 1)",
     "output_type": "error",
     "traceback": [
      "\u001b[0;36m  Cell \u001b[0;32mIn[65], line 1\u001b[0;36m\u001b[0m\n\u001b[0;31m    ToggleSwitch =\u001b[0m\n\u001b[0m                   ^\u001b[0m\n\u001b[0;31mSyntaxError\u001b[0m\u001b[0;31m:\u001b[0m invalid syntax\n"
     ]
    }
   ],
   "source": []
  },
  {
   "cell_type": "code",
   "execution_count": null,
   "metadata": {},
   "outputs": [],
   "source": []
  },
  {
   "cell_type": "code",
   "execution_count": null,
   "metadata": {},
   "outputs": [],
   "source": []
  }
 ],
 "metadata": {
  "kernelspec": {
   "display_name": "Python 3 (ipykernel)",
   "language": "python",
   "name": "python3"
  },
  "language_info": {
   "codemirror_mode": {
    "name": "ipython",
    "version": 3
   },
   "file_extension": ".py",
   "mimetype": "text/x-python",
   "name": "python",
   "nbconvert_exporter": "python",
   "pygments_lexer": "ipython3",
   "version": "3.9.13"
  }
 },
 "nbformat": 4,
 "nbformat_minor": 4
}
